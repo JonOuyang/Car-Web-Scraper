{
 "cells": [
  {
   "cell_type": "code",
   "execution_count": 1,
   "id": "f1a6a028",
   "metadata": {},
   "outputs": [],
   "source": [
    "import random\n",
    "from selenium import webdriver\n",
    "from selenium.webdriver.common.by import By\n",
    "from bs4 import BeautifulSoup\n",
    "import time\n",
    "from selenium.webdriver.common.actions.wheel_input import ScrollOrigin\n",
    "from selenium.webdriver import ActionChains\n",
    "from selenium.webdriver.support.ui import WebDriverWait\n",
    "from selenium.webdriver.support import expected_conditions as EC\n",
    "from selenium.webdriver.common.keys import Keys\n",
    "from selenium.webdriver.common.action_chains import ActionChains\n",
    "from selenium.webdriver.chrome.options import Options\n",
    "\n",
    "from selenium.common.exceptions import TimeoutException\n",
    "\n",
    "import math"
   ]
  },
  {
   "cell_type": "code",
   "execution_count": 2,
   "id": "fe585aa9",
   "metadata": {},
   "outputs": [],
   "source": [
    "options = Options()\n",
    "options.add_experimental_option(\"detach\", True)\n",
    "\n",
    "driver = webdriver.Chrome(options=options)\n",
    "#driver.get(\"https://www.car.info/en-se/mercedes-benz\")\n",
    "driver.get('https://www.car.info/en-se/ford')"
   ]
  },
  {
   "cell_type": "code",
   "execution_count": 96,
   "id": "06f1e16d",
   "metadata": {},
   "outputs": [],
   "source": [
    "scroll_origin = ScrollOrigin.from_viewport(500, 500)\n",
    "\n",
    "soup = BeautifulSoup(driver.page_source, \"html.parser\")\n",
    "\n",
    "currentSeries = int(driver.find_element(By.XPATH, '//*[@id=\"hierarchy_list_current\"]/td/span/span').text)\n",
    "historicSeries = int(driver.find_element(By.XPATH, '//*[@id=\"hierarchy_list_historic\"]/td/span/span').text)\n",
    "\n",
    "for _ in range(100):\n",
    "        ActionChains(driver)\\\n",
    "            .scroll_from_origin(scroll_origin, 0, 100)\\\n",
    "            .perform()\n",
    "        time.sleep(0.1)\n",
    "        try:\n",
    "            driver.find_element(By.XPATH, f'//*[@id=\"content\"]/main/div[5]/table/tbody/tr[{currentSeries+2}]/td/div/div/div[2]')\n",
    "            break\n",
    "        except:\n",
    "            pass\n",
    "driver.find_element(By.XPATH, f'//*[@id=\"content\"]/main/div[5]/table/tbody/tr[{currentSeries+2}]/td/div/div/div[2]').click()\n",
    "\n",
    "for _ in range(100):\n",
    "        ActionChains(driver)\\\n",
    "            .scroll_from_origin(scroll_origin, 0, 100)\\\n",
    "            .perform()\n",
    "        time.sleep(0.1)\n",
    "        try:\n",
    "            driver.find_element(By.XPATH, f'//*[@id=\"content\"]/main/div[5]/table/tbody/tr[{currentSeries + historicSeries + 4}]/td/div/div/div[2]')\n",
    "            break\n",
    "        except:\n",
    "            pass\n",
    "\n",
    "driver.find_element(By.XPATH, f'//*[@id=\"content\"]/main/div[5]/table/tbody/tr[{currentSeries + historicSeries + 4}]/td/div/div/div[2]').click()\n",
    "\n",
    "# for _ in range(100):\n",
    "#         ActionChains(driver)\\\n",
    "#             .scroll_from_origin(scroll_origin, 0, 100)\\\n",
    "#             .perform()\n",
    "#         time.sleep(0.1)\n",
    "#         try:\n",
    "#             driver.find_element(By.XPATH, '//*[@id=\"content\"]/main/div[6]/div[1]/h2')\n",
    "#             break\n",
    "#         except:\n",
    "#             pass\n",
    "\n"
   ]
  },
  {
   "cell_type": "code",
   "execution_count": 97,
   "id": "f072fc81",
   "metadata": {},
   "outputs": [
    {
     "name": "stdout",
     "output_type": "stream",
     "text": [
      "1\n"
     ]
    }
   ],
   "source": [
    "soup = BeautifulSoup(driver.page_source, \"html.parser\")\n",
    "current_series = soup.find_all(\n",
    "            \"table\",\n",
    "            class_=\"table ci-table table-md table-striped mb-2\",\n",
    "        )\n",
    "print(len(current_series))\n",
    "#print(current_series[0])\n"
   ]
  },
  {
   "cell_type": "code",
   "execution_count": 98,
   "id": "705b1333",
   "metadata": {},
   "outputs": [
    {
     "name": "stdout",
     "output_type": "stream",
     "text": [
      "1002\n",
      "180\n",
      "https://www.car.info/ford/300\n",
      "https://www.car.info/ford/7w\n",
      "https://www.car.info/ford/7y\n",
      "https://www.car.info/ford/aerostar\n",
      "https://www.car.info/ford/anglia\n",
      "https://www.car.info/ford/aspire\n",
      "https://www.car.info/ford/b-max\n",
      "https://www.car.info/ford/bronco\n",
      "https://www.car.info/ford/bronco-ii\n",
      "https://www.car.info/ford/bronco-sport\n"
     ]
    }
   ],
   "source": [
    "test = str(current_series[0]).split('href=\"')\n",
    "links = set()\n",
    "count = 0\n",
    "for i in test:\n",
    "    if \"https\" in i:\n",
    "        fullLink = i.split('\"')\n",
    "        partial = fullLink[0].split(\"en-se/\")\n",
    "        # print(partial)\n",
    "        split = partial[1].split(\"/\")\n",
    "        # print(partial[0] + split[0] + \"/\" + split[1])\n",
    "        fullLink = partial[0] + split[0] + \"/\" + split[1]\n",
    "        #temp = temp[0].split(\"en-se/\")\n",
    "        links.add(fullLink)\n",
    "        count+=1\n",
    "            \n",
    "print(count)\n",
    "print(len(links))\n",
    "links = list(links)\n",
    "links.sort()\n",
    "for i in range(10):\n",
    "    print(links[i])"
   ]
  },
  {
   "cell_type": "code",
   "execution_count": 59,
   "id": "b205d8bd",
   "metadata": {},
   "outputs": [
    {
     "name": "stdout",
     "output_type": "stream",
     "text": [
      "https://www.car.info/mercedes-benz/12-55-ps\n",
      "12/55 ps\n"
     ]
    }
   ],
   "source": [
    "print(links[0])\n",
    "driver.get(links[0])\n",
    "soup = BeautifulSoup(driver.page_source, \"html.parser\")\n",
    "name = soup.find_all(\n",
    "            \"h1\",\n",
    "            class_=\"page_title\",\n",
    "        )\n",
    "name = str(name).split('\\n')\n",
    "name = name[1].split('</h1>')\n",
    "name = name[0].strip()\n",
    "name = name.lower().split(\"mercedes-benz\")[1].strip()\n",
    "print(name)\n",
    "\n",
    "#print(driver.find_element(By.XPATH, '//*[@id=\"content\"]/main/div[1]/h1'))"
   ]
  },
  {
   "cell_type": "code",
   "execution_count": 139,
   "id": "abd8d482",
   "metadata": {},
   "outputs": [],
   "source": [
    "driver.get('https://www.car.info/en-se/ford/f-series')\n",
    "element = driver.find_element(By.XPATH, f\"//*[text()='Show all models']\").click()"
   ]
  },
  {
   "cell_type": "code",
   "execution_count": 9,
   "id": "5ea4292b",
   "metadata": {},
   "outputs": [
    {
     "name": "stdout",
     "output_type": "stream",
     "text": [
      "Fetching link: https://www.car.info/en-se/ford/super-duty\n",
      "case 2\n",
      "{'https://www.car.info/en-se/ford/super-duty/f-250-crew-cab-17334651': 'F-250 Crew Cab', 'https://www.car.info/en-se/ford/super-duty/f-250-regular-cab-17334647': 'F-250 Regular Cab', 'https://www.car.info/en-se/ford/super-duty/f-250-supercab-17334649': 'F-250 SuperCab', 'https://www.car.info/en-se/ford/super-duty/f-350-crew-cab-17334657': 'F-350 Crew Cab', 'https://www.car.info/en-se/ford/super-duty/f-350-regular-cab-17334653': 'F-350 Regular Cab', 'https://www.car.info/en-se/ford/super-duty/f-350-supercab-17334655': 'F-350 SuperCab', 'https://www.car.info/en-se/ford/super-duty/f-450-crew-cab-17334663': 'F-450 Crew Cab', 'https://www.car.info/en-se/ford/super-duty/f-450-regular-cab-17334659': 'F-450 Regular Cab', 'https://www.car.info/en-se/ford/super-duty/f-550-crew-cab-17334669': 'F-550 Crew Cab', 'https://www.car.info/en-se/ford/super-duty/f-550-regular-cab-17334665': 'F-550 Regular Cab', 'https://www.car.info/en-se/ford/super-duty/f-450-supercab-17334661': 'F-450 SuperCab', 'https://www.car.info/en-se/ford/super-duty/f-550-supercab-17334667': 'F-550 SuperCab', 'https://www.car.info/en-se/ford/super-duty/f-600-regular-cab-25056704': 'F-600 Regular Cab'}\n",
      "Total of 13 models detected\n"
     ]
    }
   ],
   "source": [
    "#driver.get('https://www.car.info/en-se/ford/f-series')\n",
    "#link = 'https://www.car.info/en-se/mercedes-benz/630'\n",
    "link = 'https://www.car.info/en-se/ford/super-duty'\n",
    "#driver.get('https://www.car.info/mercedes-benz/12-55-ps')\n",
    "\n",
    "soup = BeautifulSoup(driver.page_source, \"html.parser\")\n",
    "\n",
    "print(f'Fetching link: {link}')\n",
    "driver.get(link)\n",
    "soup = BeautifulSoup(driver.page_source, \"html.parser\")\n",
    "\n",
    "try:\n",
    "    driver.find_element(By.XPATH, f\"//*[text()='Show all models']\").click()\n",
    "    print(\"case 1\")\n",
    "    soup = BeautifulSoup(driver.page_source, \"html.parser\")\n",
    "    \n",
    "    models = soup.find_all(\n",
    "            \"tr\",\n",
    "            class_=\"list_item show_condensed show_expanded_list\",\n",
    "        )\n",
    "    models2 = soup.find_all(\n",
    "            \"tr\",\n",
    "            class_=\"list_item show_not_condensed show_expanded_list\",\n",
    "        )\n",
    "    models.extend(models2)\n",
    "except:\n",
    "    print(\"case 2\")\n",
    "    models = soup.find_all(\n",
    "            \"tr\",\n",
    "            class_=\"list_item show_condensed\",\n",
    "        )\n",
    "#print(models)\n",
    "modelLinks = {}\n",
    "for i in models:\n",
    "    stringModel = str(i)\n",
    "    if 'data-type=\"models\"' in stringModel:\n",
    "        m = stringModel.split('aria-label=\"')[1].split('<')[0].strip().split('\"')[0]\n",
    "        temp = stringModel.split('href=\"')\n",
    "        temp = temp[1].split('\">')\n",
    "        modelLinks[temp[0]] = m #add model link to hashmap\n",
    "if len(modelLinks) == 0:\n",
    "    m = driver.find_element(By.XPATH, '//*[@id=\"content\"]/main/div[2]/div[1]/div[1]/div[2]/div[2]').text\n",
    "    temp = stringModel.split('href=\"')\n",
    "    temp = temp[1].split('\">')\n",
    "    modelLinks[link] = m #add model link to hashmap\n",
    "    \n",
    "print(modelLinks)\n",
    "print(f'Total of {len(modelLinks)} models detected')"
   ]
  },
  {
   "cell_type": "code",
   "execution_count": 13,
   "id": "d1718d99",
   "metadata": {},
   "outputs": [
    {
     "name": "stdout",
     "output_type": "stream",
     "text": [
      "27 generations detected\n",
      "petroldiesel\n",
      "gas\n",
      "petroldiesel\n",
      "gas\n",
      "petroldiesel\n",
      "gas\n",
      "petroldiesel\n",
      "gas\n",
      "dieselelectricfuel cell\n",
      "trigger\n",
      "dieselelectric\n",
      "trigger\n",
      "dieselelectric\n",
      "trigger\n",
      "-=-=-=-=-=-=-=-=-=-=-=-=-=-=-=-=-=-=-=- pregen labels\n",
      "{'Jumpy Van 1st Generation': ['Gas', '1995', '2003'], 'Jumpy Van 1st Generation Facelift': ['Gas', '2004', '2007'], 'Jumpy Van 2nd Generation': ['Gas', '2007', '2011'], 'Jumpy Van 2nd Generation Facelift': ['Gas', '2012', '2016'], 'Jumpy Van 3rd Generation': ['Electric', 'ERROR', 'ERROR'], 'Jumpy Van 3rd Generation 1st Facelift': ['Electric', '2019', '2024'], 'Jumpy Van 3rd Generation 2nd Facelift': ['Electric', '2024', '2024']}\n"
     ]
    }
   ],
   "source": [
    "# driver.get(links[0])\n",
    "#driver.get('https://www.car.info/en-se/ford/kuga')\n",
    "driver.get('https://www.car.info/en-se/citroen/jumpy/jumpy-van-7220178')\n",
    "soup = BeautifulSoup(driver.page_source, \"html.parser\")\n",
    "soup = BeautifulSoup(driver.page_source, \"html.parser\")\n",
    "try:\n",
    "    driver.find_element(By.XPATH, f\"//*[text()='Show all generations']\").click()\n",
    "    soup = BeautifulSoup(driver.page_source, \"html.parser\")\n",
    "    \n",
    "    generations = soup.find_all(\n",
    "            \"tr\",\n",
    "            class_=\"list_item show_condensed show_expanded_list\",\n",
    "        )\n",
    "    generations2 = soup.find_all(\n",
    "            \"tr\",\n",
    "            class_=\"list_item show_not_condensed show_expanded_list\",\n",
    "        )\n",
    "    generations.extend(generations2)\n",
    "except:\n",
    "    generations = soup.find_all(\n",
    "            \"tr\",\n",
    "            class_=\"list_item show_condensed\",\n",
    "            )\n",
    "print(f'{len(generations)} generations detected')\n",
    "genNumerated = 0\n",
    "generationLabels = {}\n",
    "\n",
    "for generation in generations:\n",
    "    type = str(generation)\n",
    "    if type.split('data-type=\"')[1].split('\"')[0] == \"generations\": #identify list of generations\n",
    "        gen = type.split('aria-label=\"')[1].split('<')[0].strip().split('\"')[0]\n",
    "        generationLabels[gen] = []\n",
    "        # print(gen)\n",
    "\n",
    "        tempFuelTypes = \"\"\n",
    "        fuel = type.split('make_tooltip\" data-tooltip=\"')\n",
    "        for i in range(1, len(fuel)):\n",
    "            tempFuelTypes += fuel[i].split('\"')[0].lower()\n",
    "        print(tempFuelTypes)\n",
    "        if 'hybrid' in tempFuelTypes:\n",
    "            generationLabels[gen].append('Hybrid')\n",
    "        elif 'electric' in tempFuelTypes and 'petrol' in tempFuelTypes:\n",
    "            generationLabels[gen].append('Electric & Gas')\n",
    "        elif 'electric' in tempFuelTypes and 'petrol' not in tempFuelTypes:\n",
    "            generationLabels[gen].append('Electric')\n",
    "            print('trigger')\n",
    "        elif 'electric' not in tempFuelTypes and 'petrol' in tempFuelTypes:\n",
    "            generationLabels[gen].append('Gas')\n",
    "            print('gas')\n",
    "        else:\n",
    "            generationLabels[gen].append('Unknown')\n",
    "\n",
    "        date = type.split('cell\">')[1].split('<')[0].strip().split(\"-\")\n",
    "        try:\n",
    "            if int(date[0]) < 1980:\n",
    "                generationLabels[gen].append(\"pre-1980\")\n",
    "            else:\n",
    "                generationLabels[gen].append(date[0])\n",
    "        except:\n",
    "            generationLabels[gen].append(\"ERROR\")\n",
    "        \n",
    "        try:\n",
    "            if date[1] == '':\n",
    "                generationLabels[gen].append(\"2024\")\n",
    "            elif int(date[1]) < 1980:\n",
    "                generationLabels[gen].append(\"pre-1980\")\n",
    "            else:\n",
    "                generationLabels[gen].append(date[1])\n",
    "        except:\n",
    "            generationLabels[gen].append(\"ERROR\")\n",
    "generationLabels = dict(sorted(generationLabels.items()))\n",
    "print(\"-=-=-=-=-=-=-=-=-=-=-=-=-=-=-=-=-=-=-=- pregen labels\")\n",
    "print(generationLabels)\n",
    "\n",
    "for g in generationLabels:\n",
    "    if \"Concept\" in g:\n",
    "        generationLabels[g].append(\"Concept\")\n",
    "    elif \"Facelift\" not in g:\n",
    "        genNumerated += 1\n",
    "        genNumerated = math.floor(genNumerated)\n",
    "        generationLabels[g].append(math.floor(genNumerated))\n",
    "    else:\n",
    "        genNumerated += 0.1\n",
    "        generationLabels[g].append(f'{genNumerated:.1f}') # will face error if there are more than 10 facelifts for some reason"
   ]
  },
  {
   "cell_type": "code",
   "execution_count": 30,
   "id": "3058631d",
   "metadata": {},
   "outputs": [
    {
     "name": "stdout",
     "output_type": "stream",
     "text": [
      "Crew Cab\n",
      "F-250 Crew Cab\n"
     ]
    }
   ],
   "source": [
    "x = driver.find_element(By.XPATH, '//*[@id=\"content\"]/main/div[2]/div[1]/div[1]/div[2]/div[2]').text\n",
    "f = 'F-250 Crew Cab'\n",
    "x = \"Crew Cab\"\n",
    "print(str(x))\n",
    "if str(x) not in f:\n",
    "    print(\"test\")\n",
    "    f = x + \" \" + f\n",
    "print(f)"
   ]
  },
  {
   "cell_type": "code",
   "execution_count": 71,
   "id": "76109e47",
   "metadata": {},
   "outputs": [],
   "source": [
    "driver.get('https://www.car.info/en-se/ford/f-series')\n",
    "if len(generations) > 12:\n",
    "    for _ in range(100):\n",
    "            ActionChains(driver)\\\n",
    "                .scroll_from_origin(scroll_origin, 0, 100)\\\n",
    "                .perform()\n",
    "            time.sleep(0.1)\n",
    "            try:\n",
    "                driver.find_element(By.XPATH, '//*[@id=\"hierarchy_table\"]/table/tbody/tr[26]/td/div/div/div[2]')\n",
    "                break\n",
    "            except:\n",
    "                pass\n",
    "    driver.find_element(By.XPATH, '//*[@id=\"hierarchy_table\"]/table/tbody/tr[26]/td/div/div/div[2]').click()\n"
   ]
  },
  {
   "cell_type": "code",
   "execution_count": 144,
   "id": "be31671e",
   "metadata": {},
   "outputs": [
    {
     "name": "stdout",
     "output_type": "stream",
     "text": [
      "petrol\n"
     ]
    }
   ],
   "source": [
    "test = temp[4]\n",
    "test = test.split('make_tooltip\" data-tooltip=\"')\n",
    "a = \"\"\n",
    "for i in range(1, len(test)):\n",
    "    a += test[i].split('\"')[0].lower()\n",
    "print(a)\n",
    "if 'hybrid' in a:\n",
    "    print(True)\n"
   ]
  },
  {
   "cell_type": "code",
   "execution_count": 182,
   "id": "7666049c",
   "metadata": {},
   "outputs": [
    {
     "name": "stdout",
     "output_type": "stream",
     "text": [
      "Generation: 1; Fuel Type: Gas; 1948 - 1950\n",
      "Generation: 1.1; Fuel Type: Gas; 1951 - 2024\n",
      "Generation: 1.2; Fuel Type: Gas; 1952 - 2024\n",
      "Generation: 2; Fuel Type: Gas; 1953 - 2024\n",
      "Generation: 2.1; Fuel Type: Gas; 1954 - 2024\n",
      "Generation: 2.2; Fuel Type: Gas; 1955 - 2024\n",
      "Generation: 2.3; Fuel Type: Gas; 1956 - 2024\n",
      "Generation: 3; Fuel Type: Gas; 1957 - 2024\n",
      "Generation: 3.1; Fuel Type: Gas; 1958 - 2024\n",
      "Generation: 3.2; Fuel Type: Gas; 1959 - 2024\n",
      "Generation: 3.3; Fuel Type: Gas; 1960 - 2024\n",
      "Generation: 4; Fuel Type: Gas; 1961 - 2024\n",
      "Generation: 4.1; Fuel Type: Gas; 1962 - 2024\n",
      "Generation: 4.2; Fuel Type: Gas; 1963 - 2024\n",
      "Generation: 4.3; Fuel Type: Gas; 1964 - 2024\n",
      "Generation: 4.4; Fuel Type: Gas; 1965 - 2024\n",
      "Generation: 4.5; Fuel Type: Gas; 1966 - 2024\n",
      "Generation: 5; Fuel Type: Gas; 1967 - 2024\n",
      "Generation: 5.1; Fuel Type: Gas; 1968 - 2024\n",
      "Generation: 5.2; Fuel Type: Gas; 1969 - 2024\n",
      "Generation: 5.3; Fuel Type: Gas; 1970 - 2024\n",
      "Generation: 5.4; Fuel Type: Gas; 1971 - 2024\n",
      "Generation: 5.5; Fuel Type: Gas; 1972 - 2024\n",
      "Generation: 6; Fuel Type: Gas; 1973 - 1975\n",
      "Generation: 6.1; Fuel Type: Gas; 1976 - 1977\n",
      "Generation: 6.2; Fuel Type: Gas; 1978 - 1979\n",
      "Generation: 7; Fuel Type: Gas; 1980 - 1981\n",
      "Generation: 7.1; Fuel Type: Gas; 1982 - 1986\n",
      "Generation: 8; Fuel Type: Gas; 1987 - 1991\n",
      "Generation: 9; Fuel Type: Gas; 1992 - 1998\n"
     ]
    }
   ],
   "source": [
    "\n",
    "for i in generationLabels:\n",
    "    print(f'Generation: {generationLabels[i][3]}; Fuel Type: {generationLabels[i][0]}; {generationLabels[i][1]} - {generationLabels[i][2]}')"
   ]
  },
  {
   "cell_type": "code",
   "execution_count": 4,
   "id": "0bc4e7db",
   "metadata": {},
   "outputs": [],
   "source": [
    "job_list = []\n",
    "\n",
    "def search_job_page(keywords):\n",
    "    soup = BeautifulSoup(driver.page_source, \"html.parser\")\n",
    "    \n",
    "    scroll_origin = ScrollOrigin.from_viewport(200, 500)\n",
    "    \n",
    "    for _ in range(3):\n",
    "        ActionChains(driver)\\\n",
    "            .scroll_from_origin(scroll_origin, 0, 2000)\\\n",
    "            .perform()\n",
    "        \n",
    "        soup = BeautifulSoup(driver.page_source, \"html.parser\")\n",
    "        job_listings = soup.find_all(\n",
    "                    \"div\",\n",
    "                    class_=\"job-card-list__entity-lockup artdeco-entity-lockup artdeco-entity-lockup--size-4 ember-view\",\n",
    "                )\n",
    "        try:\n",
    "            driver.find_element(By.XPATH, f\"//*[@id='{job_listings[-1].get('id')}']\").click()\n",
    "        except:\n",
    "            pass\n",
    "        time.sleep(0.2)\n",
    "        \n",
    "    job_listings = soup.find_all(\n",
    "            \"div\",\n",
    "            class_=\"job-card-list__entity-lockup artdeco-entity-lockup artdeco-entity-lockup--size-4 ember-view\",\n",
    "        )\n",
    "    \n",
    "    print(f'Numer of jobs detected on page: {len(job_listings)}')\n",
    "\n",
    "    for job in job_listings:\n",
    "        driver.find_element(By.XPATH, f\"//*[@id='{job.get('id')}']\").click()\n",
    "        time.sleep(0.1)\n",
    "        load_job_data(keywords)"
   ]
  },
  {
   "cell_type": "code",
   "execution_count": 4,
   "id": "3d058bc5",
   "metadata": {},
   "outputs": [],
   "source": [
    "def load_job_data(keywords):\n",
    "    soup = BeautifulSoup(driver.page_source, \"html.parser\")\n",
    "\n",
    "    #needs to be adjusted based on screen size; this is calibrated for vertical monitor fullscreen\n",
    "    scroll_origin = ScrollOrigin.from_viewport(500, 500)\n",
    "    \n",
    "    ActionChains(driver)\\\n",
    "        .scroll_from_origin(scroll_origin, 0, -200)\\\n",
    "        .perform()\n",
    "    time.sleep(0.1)\n",
    "    for _ in range(5):\n",
    "        ActionChains(driver)\\\n",
    "            .scroll_from_origin(scroll_origin, 0, 1000)\\\n",
    "            .perform()\n",
    "        time.sleep(0.1)\n",
    "    \n",
    "    timeout = 2\n",
    "    try:\n",
    "        element_present = EC.presence_of_element_located((By.XPATH, '//*[@id=\"main\"]/div[2]/div[2]/div/div[2]/div/div[1]/div/section/section/div[1]/div[2]'))\n",
    "        WebDriverWait(driver, timeout).until(element_present)\n",
    "    except TimeoutException:\n",
    "        print(\"Timed out waiting for page to load\")\n",
    "    \n",
    "    description = driver.find_element(By.XPATH, '//*[@id=\"job-details\"]')\n",
    "    time.sleep(0.5)\n",
    "    for word in keywords:\n",
    "        if word.lower() in description.text.lower():\n",
    "            try:\n",
    "                #job_company = soup.find('div', {'class': 'artdeco-entity-lockup__title ember-view t-20'}).text.strip()\n",
    "                job_company = soup.find('a', {'class': 'ember-view link-without-visited-state inline-block t-black'}).text.strip()\n",
    "            except:\n",
    "                job_company = 'N/A'\n",
    "            job_name = soup.find('span', {'class': 'job-details-jobs-unified-top-card__job-title-link'}).text.strip()\n",
    "            #job_time = soup.find('span', {'class': 'tvm__text tvm__text--positive'}).text.strip()\n",
    "            job_link = driver.current_url\n",
    "\n",
    "            job_list.append({\"Company\" : job_company, \"Job Title\" : job_name, \"Link\" : job_link})\n",
    "            break\n",
    "        else:\n",
    "            pass"
   ]
  },
  {
   "cell_type": "code",
   "execution_count": 8,
   "id": "52fcbd3d",
   "metadata": {},
   "outputs": [],
   "source": [
    "def scrape_jobs(title, location, keywords):\n",
    "    page = 0\n",
    "    while True:\n",
    "        driver.get(f\"https://www.linkedin.com/jobs/search/?keywords={title}&location={location}&start={page*25}\")\n",
    "        \n",
    "        try:\n",
    "            driver.find_element(By.XPATH, \"/html/body/div[4]/div[3]/div[4]/div/div[1]/div/div[1]\")\n",
    "            print(\"Search Complete.\")\n",
    "            break\n",
    "        except:\n",
    "            time.sleep(1)\n",
    "            search_job_page(keywords)\n",
    "            page += 1"
   ]
  },
  {
   "cell_type": "code",
   "execution_count": 1,
   "id": "6a41ab4c",
   "metadata": {
    "scrolled": true
   },
   "outputs": [],
   "source": [
    "#scrape_jobs(\"machine learning\", \"Remote\", [\"high school\", \"highschool\"])\n",
    "#print(job_list)"
   ]
  },
  {
   "cell_type": "code",
   "execution_count": 4,
   "id": "30c1c784",
   "metadata": {},
   "outputs": [
    {
     "ename": "SupportingPluginAvailableButNotInstalled",
     "evalue": "Please install one of these plugins for read data in 'xlsx': pyexcel-xlsx,pyexcel-xlsxw",
     "output_type": "error",
     "traceback": [
      "\u001b[1;31m---------------------------------------------------------------------------\u001b[0m",
      "\u001b[1;31mSupportingPluginAvailableButNotInstalled\u001b[0m  Traceback (most recent call last)",
      "Cell \u001b[1;32mIn[4], line 6\u001b[0m\n\u001b[0;32m      2\u001b[0m \u001b[38;5;66;03m# import pyexcel.ext.xlsx # no longer required if you use pyexcel >= 0.2.2 \u001b[39;00m\n\u001b[0;32m      3\u001b[0m \u001b[38;5;28;01mimport\u001b[39;00m \u001b[38;5;21;01mglob\u001b[39;00m\n\u001b[1;32m----> 6\u001b[0m \u001b[43mmerge_all_to_a_book\u001b[49m\u001b[43m(\u001b[49m\u001b[43mglob\u001b[49m\u001b[38;5;241;43m.\u001b[39;49m\u001b[43mglob\u001b[49m\u001b[43m(\u001b[49m\u001b[38;5;124;43m\"\u001b[39;49m\u001b[38;5;124;43myour_csv_directory/*.csv\u001b[39;49m\u001b[38;5;124;43m\"\u001b[39;49m\u001b[43m)\u001b[49m\u001b[43m,\u001b[49m\u001b[43m \u001b[49m\u001b[38;5;124;43m\"\u001b[39;49m\u001b[38;5;124;43moutput.xlsx\u001b[39;49m\u001b[38;5;124;43m\"\u001b[39;49m\u001b[43m)\u001b[49m\n",
      "File \u001b[1;32mc:\\Users\\jonso\\.pyenv\\pyenv-win\\versions\\3.9.13\\lib\\site-packages\\pyexcel\\cookbook.py:148\u001b[0m, in \u001b[0;36mmerge_all_to_a_book\u001b[1;34m(filelist, outfilename)\u001b[0m\n\u001b[0;32m    146\u001b[0m \u001b[38;5;28;01mfor\u001b[39;00m file_name \u001b[38;5;129;01min\u001b[39;00m filelist:\n\u001b[0;32m    147\u001b[0m     merged \u001b[38;5;241m+\u001b[39m\u001b[38;5;241m=\u001b[39m get_book(file_name\u001b[38;5;241m=\u001b[39mfile_name)\n\u001b[1;32m--> 148\u001b[0m \u001b[43mmerged\u001b[49m\u001b[38;5;241;43m.\u001b[39;49m\u001b[43msave_as\u001b[49m\u001b[43m(\u001b[49m\u001b[43moutfilename\u001b[49m\u001b[43m)\u001b[49m\n",
      "File \u001b[1;32mc:\\Users\\jonso\\.pyenv\\pyenv-win\\versions\\3.9.13\\lib\\site-packages\\pyexcel\\internal\\meta.py:321\u001b[0m, in \u001b[0;36mBookMeta.save_as\u001b[1;34m(self, filename, **keywords)\u001b[0m\n\u001b[0;32m    316\u001b[0m \u001b[38;5;129m@append_doc\u001b[39m(docs\u001b[38;5;241m.\u001b[39mSAVE_AS_OPTIONS)\n\u001b[0;32m    317\u001b[0m \u001b[38;5;28;01mdef\u001b[39;00m \u001b[38;5;21msave_as\u001b[39m(\u001b[38;5;28mself\u001b[39m, filename, \u001b[38;5;241m*\u001b[39m\u001b[38;5;241m*\u001b[39mkeywords):\n\u001b[0;32m    318\u001b[0m \u001b[38;5;250m    \u001b[39m\u001b[38;5;124;03m\"\"\"\u001b[39;00m\n\u001b[0;32m    319\u001b[0m \u001b[38;5;124;03m    Save the content to a new file\u001b[39;00m\n\u001b[0;32m    320\u001b[0m \u001b[38;5;124;03m    \"\"\"\u001b[39;00m\n\u001b[1;32m--> 321\u001b[0m     \u001b[38;5;28;01mreturn\u001b[39;00m save_book(\u001b[38;5;28mself\u001b[39m, file_name\u001b[38;5;241m=\u001b[39mfilename, \u001b[38;5;241m*\u001b[39m\u001b[38;5;241m*\u001b[39mkeywords)\n",
      "File \u001b[1;32mc:\\Users\\jonso\\.pyenv\\pyenv-win\\versions\\3.9.13\\lib\\site-packages\\pyexcel\\internal\\core.py:55\u001b[0m, in \u001b[0;36msave_book\u001b[1;34m(book, **keywords)\u001b[0m\n\u001b[0;32m     51\u001b[0m \u001b[38;5;250m\u001b[39m\u001b[38;5;124;03m\"\"\"\u001b[39;00m\n\u001b[0;32m     52\u001b[0m \u001b[38;5;124;03mSave a book instance to any source\u001b[39;00m\n\u001b[0;32m     53\u001b[0m \u001b[38;5;124;03m\"\"\"\u001b[39;00m\n\u001b[0;32m     54\u001b[0m a_source \u001b[38;5;241m=\u001b[39m SOURCE\u001b[38;5;241m.\u001b[39mget_writable_book_source(\u001b[38;5;241m*\u001b[39m\u001b[38;5;241m*\u001b[39mkeywords)\n\u001b[1;32m---> 55\u001b[0m \u001b[38;5;28;01mreturn\u001b[39;00m \u001b[43m_save_any\u001b[49m\u001b[43m(\u001b[49m\u001b[43ma_source\u001b[49m\u001b[43m,\u001b[49m\u001b[43m \u001b[49m\u001b[43mbook\u001b[49m\u001b[43m)\u001b[49m\n",
      "File \u001b[1;32mc:\\Users\\jonso\\.pyenv\\pyenv-win\\versions\\3.9.13\\lib\\site-packages\\pyexcel\\internal\\core.py:59\u001b[0m, in \u001b[0;36m_save_any\u001b[1;34m(a_source, instance)\u001b[0m\n\u001b[0;32m     58\u001b[0m \u001b[38;5;28;01mdef\u001b[39;00m \u001b[38;5;21m_save_any\u001b[39m(a_source, instance):\n\u001b[1;32m---> 59\u001b[0m     \u001b[43ma_source\u001b[49m\u001b[38;5;241;43m.\u001b[39;49m\u001b[43mwrite_data\u001b[49m\u001b[43m(\u001b[49m\u001b[43minstance\u001b[49m\u001b[43m)\u001b[49m\n\u001b[0;32m     60\u001b[0m     \u001b[38;5;28;01mtry\u001b[39;00m:\n\u001b[0;32m     61\u001b[0m         content_stream \u001b[38;5;241m=\u001b[39m a_source\u001b[38;5;241m.\u001b[39mget_content()\n",
      "File \u001b[1;32mc:\\Users\\jonso\\.pyenv\\pyenv-win\\versions\\3.9.13\\lib\\site-packages\\pyexcel\\plugins\\sources\\file_output.py:41\u001b[0m, in \u001b[0;36mWriteBookToFile.write_data\u001b[1;34m(self, book)\u001b[0m\n\u001b[0;32m     40\u001b[0m \u001b[38;5;28;01mdef\u001b[39;00m \u001b[38;5;21mwrite_data\u001b[39m(\u001b[38;5;28mself\u001b[39m, book):\n\u001b[1;32m---> 41\u001b[0m     \u001b[38;5;28mself\u001b[39m\u001b[38;5;241m.\u001b[39m_renderer\u001b[38;5;241m.\u001b[39mrender_book_to_file(\n\u001b[0;32m     42\u001b[0m         \u001b[38;5;28mself\u001b[39m\u001b[38;5;241m.\u001b[39m_file_name, book, \u001b[38;5;241m*\u001b[39m\u001b[38;5;241m*\u001b[39m\u001b[38;5;28mself\u001b[39m\u001b[38;5;241m.\u001b[39m_keywords\n\u001b[0;32m     43\u001b[0m     )\n",
      "File \u001b[1;32mc:\\Users\\jonso\\.pyenv\\pyenv-win\\versions\\3.9.13\\lib\\site-packages\\pyexcel\\plugins\\renderers\\excel.py:31\u001b[0m, in \u001b[0;36mExcelRenderer.render_book_to_file\u001b[1;34m(self, file_name, book, **keywords)\u001b[0m\n\u001b[0;32m     30\u001b[0m \u001b[38;5;28;01mdef\u001b[39;00m \u001b[38;5;21mrender_book_to_file\u001b[39m(\u001b[38;5;28mself\u001b[39m, file_name, book, \u001b[38;5;241m*\u001b[39m\u001b[38;5;241m*\u001b[39mkeywords):\n\u001b[1;32m---> 31\u001b[0m     save_data(file_name, book\u001b[38;5;241m.\u001b[39mto_dict(), \u001b[38;5;241m*\u001b[39m\u001b[38;5;241m*\u001b[39mkeywords)\n",
      "File \u001b[1;32mc:\\Users\\jonso\\.pyenv\\pyenv-win\\versions\\3.9.13\\lib\\site-packages\\pyexcel_io\\io.py:142\u001b[0m, in \u001b[0;36msave_data\u001b[1;34m(afile, data, file_type, **keywords)\u001b[0m\n\u001b[0;32m    140\u001b[0m     keywords\u001b[38;5;241m.\u001b[39mupdate(\u001b[38;5;28mdict\u001b[39m(file_name\u001b[38;5;241m=\u001b[39mafile, file_type\u001b[38;5;241m=\u001b[39mfile_type))\n\u001b[0;32m    141\u001b[0m keywords[\u001b[38;5;124m\"\u001b[39m\u001b[38;5;124msingle_sheet_in_book\u001b[39m\u001b[38;5;124m\"\u001b[39m] \u001b[38;5;241m=\u001b[39m single_sheet_in_book\n\u001b[1;32m--> 142\u001b[0m \u001b[38;5;28;01mwith\u001b[39;00m get_writer(\u001b[38;5;241m*\u001b[39m\u001b[38;5;241m*\u001b[39mkeywords) \u001b[38;5;28;01mas\u001b[39;00m writer:\n\u001b[0;32m    143\u001b[0m     writer\u001b[38;5;241m.\u001b[39mwrite(to_store)\n",
      "File \u001b[1;32mc:\\Users\\jonso\\.pyenv\\pyenv-win\\versions\\3.9.13\\lib\\site-packages\\pyexcel_io\\io.py:267\u001b[0m, in \u001b[0;36mget_writer\u001b[1;34m(file_name, file_stream, file_type, library, force_file_type, **keywords)\u001b[0m\n\u001b[0;32m    265\u001b[0m         writer\u001b[38;5;241m.\u001b[39mopen_content(file_name, \u001b[38;5;241m*\u001b[39m\u001b[38;5;241m*\u001b[39mkeywords)\n\u001b[0;32m    266\u001b[0m     \u001b[38;5;28;01melse\u001b[39;00m:\n\u001b[1;32m--> 267\u001b[0m         writer\u001b[38;5;241m.\u001b[39mopen(file_name, \u001b[38;5;241m*\u001b[39m\u001b[38;5;241m*\u001b[39mkeywords)\n\u001b[0;32m    268\u001b[0m \u001b[38;5;28;01melif\u001b[39;00m file_stream:\n\u001b[0;32m    269\u001b[0m     writer\u001b[38;5;241m.\u001b[39mopen_stream(file_stream, \u001b[38;5;241m*\u001b[39m\u001b[38;5;241m*\u001b[39mkeywords)\n",
      "File \u001b[1;32mc:\\Users\\jonso\\.pyenv\\pyenv-win\\versions\\3.9.13\\lib\\site-packages\\pyexcel_io\\writer.py:18\u001b[0m, in \u001b[0;36mWriter.open\u001b[1;34m(self, file_name, **keywords)\u001b[0m\n\u001b[0;32m     16\u001b[0m \u001b[38;5;28;01mdef\u001b[39;00m \u001b[38;5;21mopen\u001b[39m(\u001b[38;5;28mself\u001b[39m, file_name, \u001b[38;5;241m*\u001b[39m\u001b[38;5;241m*\u001b[39mkeywords):\n\u001b[0;32m     17\u001b[0m     \u001b[38;5;28;01mif\u001b[39;00m \u001b[38;5;28mself\u001b[39m\u001b[38;5;241m.\u001b[39mwriter_class \u001b[38;5;129;01mis\u001b[39;00m \u001b[38;5;28;01mNone\u001b[39;00m:\n\u001b[1;32m---> 18\u001b[0m         \u001b[38;5;28mself\u001b[39m\u001b[38;5;241m.\u001b[39mwriter_class \u001b[38;5;241m=\u001b[39m \u001b[43mNEW_WRITERS\u001b[49m\u001b[38;5;241;43m.\u001b[39;49m\u001b[43mget_a_plugin\u001b[49m\u001b[43m(\u001b[49m\n\u001b[0;32m     19\u001b[0m \u001b[43m            \u001b[49m\u001b[38;5;28;43mself\u001b[39;49m\u001b[38;5;241;43m.\u001b[39;49m\u001b[43mfile_type\u001b[49m\u001b[43m,\u001b[49m\u001b[43m \u001b[49m\u001b[43mlibrary\u001b[49m\u001b[38;5;241;43m=\u001b[39;49m\u001b[38;5;28;43mself\u001b[39;49m\u001b[38;5;241;43m.\u001b[39;49m\u001b[43mlibrary\u001b[49m\u001b[43m,\u001b[49m\u001b[43m \u001b[49m\u001b[43mlocation\u001b[49m\u001b[38;5;241;43m=\u001b[39;49m\u001b[38;5;124;43m\"\u001b[39;49m\u001b[38;5;124;43mfile\u001b[39;49m\u001b[38;5;124;43m\"\u001b[39;49m\n\u001b[0;32m     20\u001b[0m \u001b[43m        \u001b[49m\u001b[43m)\u001b[49m\n\u001b[0;32m     21\u001b[0m     \u001b[38;5;28mself\u001b[39m\u001b[38;5;241m.\u001b[39mwriter \u001b[38;5;241m=\u001b[39m \u001b[38;5;28mself\u001b[39m\u001b[38;5;241m.\u001b[39mwriter_class(file_name, \u001b[38;5;28mself\u001b[39m\u001b[38;5;241m.\u001b[39mfile_type, \u001b[38;5;241m*\u001b[39m\u001b[38;5;241m*\u001b[39mkeywords)\n",
      "File \u001b[1;32mc:\\Users\\jonso\\.pyenv\\pyenv-win\\versions\\3.9.13\\lib\\site-packages\\pyexcel_io\\plugins.py:185\u001b[0m, in \u001b[0;36mNewIOManager.get_a_plugin\u001b[1;34m(self, file_type, location, library, **keywords)\u001b[0m\n\u001b[0;32m    181\u001b[0m \u001b[38;5;28;01mdef\u001b[39;00m \u001b[38;5;21mget_a_plugin\u001b[39m(\n\u001b[0;32m    182\u001b[0m     \u001b[38;5;28mself\u001b[39m, file_type\u001b[38;5;241m=\u001b[39m\u001b[38;5;28;01mNone\u001b[39;00m, location\u001b[38;5;241m=\u001b[39m\u001b[38;5;28;01mNone\u001b[39;00m, library\u001b[38;5;241m=\u001b[39m\u001b[38;5;28;01mNone\u001b[39;00m, \u001b[38;5;241m*\u001b[39m\u001b[38;5;241m*\u001b[39mkeywords\n\u001b[0;32m    183\u001b[0m ):\n\u001b[0;32m    184\u001b[0m     __file_type \u001b[38;5;241m=\u001b[39m file_type\u001b[38;5;241m.\u001b[39mlower()\n\u001b[1;32m--> 185\u001b[0m     plugin \u001b[38;5;241m=\u001b[39m \u001b[38;5;28;43mself\u001b[39;49m\u001b[38;5;241;43m.\u001b[39;49m\u001b[43mload_me_now\u001b[49m\u001b[43m(\u001b[49m\u001b[38;5;124;43mf\u001b[39;49m\u001b[38;5;124;43m\"\u001b[39;49m\u001b[38;5;132;43;01m{\u001b[39;49;00m\u001b[43mlocation\u001b[49m\u001b[38;5;132;43;01m}\u001b[39;49;00m\u001b[38;5;124;43m-\u001b[39;49m\u001b[38;5;132;43;01m{\u001b[39;49;00m\u001b[43m__file_type\u001b[49m\u001b[38;5;132;43;01m}\u001b[39;49;00m\u001b[38;5;124;43m\"\u001b[39;49m\u001b[43m,\u001b[49m\u001b[43m \u001b[49m\u001b[43mlibrary\u001b[49m\u001b[38;5;241;43m=\u001b[39;49m\u001b[43mlibrary\u001b[49m\u001b[43m)\u001b[49m\n\u001b[0;32m    186\u001b[0m     \u001b[38;5;28;01mreturn\u001b[39;00m plugin\n",
      "File \u001b[1;32mc:\\Users\\jonso\\.pyenv\\pyenv-win\\versions\\3.9.13\\lib\\site-packages\\lml\\plugin.py:292\u001b[0m, in \u001b[0;36mPluginManager.load_me_now\u001b[1;34m(self, key, library, **keywords)\u001b[0m\n\u001b[0;32m    290\u001b[0m     \u001b[38;5;28;01mreturn\u001b[39;00m \u001b[38;5;28mcls\u001b[39m\n\u001b[0;32m    291\u001b[0m \u001b[38;5;28;01melse\u001b[39;00m:\n\u001b[1;32m--> 292\u001b[0m     \u001b[38;5;28;43mself\u001b[39;49m\u001b[38;5;241;43m.\u001b[39;49m\u001b[43mraise_exception\u001b[49m\u001b[43m(\u001b[49m\u001b[43mkey\u001b[49m\u001b[43m)\u001b[49m\n",
      "File \u001b[1;32mc:\\Users\\jonso\\.pyenv\\pyenv-win\\versions\\3.9.13\\lib\\site-packages\\pyexcel_io\\plugins.py:201\u001b[0m, in \u001b[0;36mNewIOManager.raise_exception\u001b[1;34m(self, file_type)\u001b[0m\n\u001b[0;32m    199\u001b[0m     \u001b[38;5;28;01melse\u001b[39;00m:\n\u001b[0;32m    200\u001b[0m         message \u001b[38;5;241m+\u001b[39m\u001b[38;5;241m=\u001b[39m plugins[\u001b[38;5;241m0\u001b[39m]\n\u001b[1;32m--> 201\u001b[0m     \u001b[38;5;28;01mraise\u001b[39;00m exceptions\u001b[38;5;241m.\u001b[39mSupportingPluginAvailableButNotInstalled(message)\n\u001b[0;32m    203\u001b[0m \u001b[38;5;28;01melse\u001b[39;00m:\n\u001b[0;32m    204\u001b[0m     \u001b[38;5;28;01mraise\u001b[39;00m exceptions\u001b[38;5;241m.\u001b[39mNoSupportingPluginFound(\n\u001b[0;32m    205\u001b[0m         \u001b[38;5;124m\"\u001b[39m\u001b[38;5;124mNo suitable library found for \u001b[39m\u001b[38;5;132;01m%s\u001b[39;00m\u001b[38;5;124m\"\u001b[39m \u001b[38;5;241m%\u001b[39m file_type\n\u001b[0;32m    206\u001b[0m     )\n",
      "\u001b[1;31mSupportingPluginAvailableButNotInstalled\u001b[0m: Please install one of these plugins for read data in 'xlsx': pyexcel-xlsx,pyexcel-xlsxw"
     ]
    }
   ],
   "source": [
    "from pyexcel.cookbook import merge_all_to_a_book\n",
    "# import pyexcel.ext.xlsx # no longer required if you use pyexcel >= 0.2.2 \n",
    "import glob\n",
    "\n",
    "\n",
    "merge_all_to_a_book(glob.glob(\"your_csv_directory/*.csv\"), \"output.xlsx\")"
   ]
  },
  {
   "cell_type": "code",
   "execution_count": 3,
   "id": "d00fa926",
   "metadata": {},
   "outputs": [
    {
     "name": "stdout",
     "output_type": "stream",
     "text": [
      "Collecting pyexcel-xlsx\n",
      "  Using cached pyexcel_xlsx-0.6.0-py2.py3-none-any.whl.metadata (16 kB)\n",
      "Collecting openpyxl>=2.6.1 (from pyexcel-xlsx)\n",
      "  Using cached openpyxl-3.1.5-py2.py3-none-any.whl.metadata (2.5 kB)\n",
      "Requirement already satisfied: pyexcel-io>=0.6.2 in c:\\users\\jonso\\.pyenv\\pyenv-win\\versions\\3.9.13\\lib\\site-packages (from pyexcel-xlsx) (0.6.6)\n",
      "Collecting et-xmlfile (from openpyxl>=2.6.1->pyexcel-xlsx)\n",
      "  Using cached et_xmlfile-1.1.0-py3-none-any.whl.metadata (1.8 kB)\n",
      "Requirement already satisfied: lml>=0.0.4 in c:\\users\\jonso\\.pyenv\\pyenv-win\\versions\\3.9.13\\lib\\site-packages (from pyexcel-io>=0.6.2->pyexcel-xlsx) (0.1.0)\n",
      "Using cached pyexcel_xlsx-0.6.0-py2.py3-none-any.whl (9.6 kB)\n",
      "Using cached openpyxl-3.1.5-py2.py3-none-any.whl (250 kB)\n",
      "Using cached et_xmlfile-1.1.0-py3-none-any.whl (4.7 kB)\n",
      "Installing collected packages: et-xmlfile, openpyxl, pyexcel-xlsx\n",
      "Successfully installed et-xmlfile-1.1.0 openpyxl-3.1.5 pyexcel-xlsx-0.6.0\n",
      "Note: you may need to restart the kernel to use updated packages.\n"
     ]
    },
    {
     "name": "stderr",
     "output_type": "stream",
     "text": [
      "\n",
      "[notice] A new release of pip is available: 24.1 -> 24.1.1\n",
      "[notice] To update, run: c:\\Users\\jonso\\.pyenv\\pyenv-win\\versions\\3.9.13\\python.exe -m pip install --upgrade pip\n"
     ]
    }
   ],
   "source": [
    "%pip install pyexcel-xlsx"
   ]
  },
  {
   "cell_type": "markdown",
   "id": "8deac92d",
   "metadata": {},
   "source": [
    "## Search Companies for Keywords"
   ]
  }
 ],
 "metadata": {
  "kernelspec": {
   "display_name": "Python 3",
   "language": "python",
   "name": "python3"
  },
  "language_info": {
   "codemirror_mode": {
    "name": "ipython",
    "version": 3
   },
   "file_extension": ".py",
   "mimetype": "text/x-python",
   "name": "python",
   "nbconvert_exporter": "python",
   "pygments_lexer": "ipython3",
   "version": "3.9.13"
  }
 },
 "nbformat": 4,
 "nbformat_minor": 5
}
